{
 "cells": [
  {
   "cell_type": "markdown",
   "metadata": {},
   "source": [
    "## Table of contents\n",
    "\n",
    "### 01. Importing data\n",
    "### 02. Checking data\n",
    "### 03. Wrangling data\n",
    "### 04. Concatenating data\n",
    "### 05. Checking consistency\n",
    "#### Mixed data types\n",
    "#### Missing values\n",
    "##### Checking missing values\n",
    "##### Adressing missing values\n",
    "#### Duplicated values\n",
    "### 06. Exporting data "
   ]
  },
  {
   "cell_type": "markdown",
   "metadata": {},
   "source": [
    "## Importing libraries"
   ]
  },
  {
   "cell_type": "code",
   "execution_count": 1,
   "metadata": {},
   "outputs": [],
   "source": [
    "# Import libraries\n",
    "\n",
    "import pandas as pd\n",
    "import numpy as np\n",
    "import os"
   ]
  },
  {
   "cell_type": "markdown",
   "metadata": {},
   "source": [
    "## 01. Importing data"
   ]
  },
  {
   "cell_type": "code",
   "execution_count": 2,
   "metadata": {},
   "outputs": [],
   "source": [
    "# Create folder path\n",
    "\n",
    "path = r'/Users/edytakowal/Desktop/CareerFoundry/2. Data Immersion/6. Advanced Analytics & Dashboard Design/World_Happiness_Report'"
   ]
  },
  {
   "cell_type": "code",
   "execution_count": 3,
   "metadata": {},
   "outputs": [],
   "source": [
    "# Import dataframes\n",
    "df_2015 = pd.read_csv(os.path.join(path, 'Data', 'Oryginal Data', 'WHR_2015.csv'), index_col = False)\n",
    "df_2016 = pd.read_csv(os.path.join(path, 'Data', 'Oryginal Data', 'WHR_2016.csv'), index_col = False)\n",
    "df_2017 = pd.read_csv(os.path.join(path, 'Data', 'Oryginal Data', 'WHR_2017.csv'), index_col = False)\n",
    "df_2018 = pd.read_csv(os.path.join(path, 'Data', 'Oryginal Data', 'WHR_2018.csv'), index_col = False)\n",
    "df_2019 = pd.read_csv(os.path.join(path, 'Data', 'Oryginal Data', 'WHR_2019.csv'), index_col = False)\n",
    "df_2020 = pd.read_csv(os.path.join(path, 'Data', 'Oryginal Data', 'WHR_2020.csv'), index_col = False)\n",
    "df_2021 = pd.read_csv(os.path.join(path, 'Data', 'Oryginal Data', 'WHR_2021.csv'), index_col = False)\n",
    "df_2022 = pd.read_csv(os.path.join(path, 'Data', 'Oryginal Data', 'WHR_2022.csv'), index_col = False)\n",
    "df_2023 = pd.read_csv(os.path.join(path, 'Data', 'Oryginal Data', 'WHR_2023.csv'), index_col = False)"
   ]
  },
  {
   "cell_type": "markdown",
   "metadata": {},
   "source": [
    "## 02. Checking data"
   ]
  },
  {
   "cell_type": "code",
   "execution_count": 4,
   "metadata": {},
   "outputs": [
    {
     "name": "stdout",
     "output_type": "stream",
     "text": [
      "(158, 9)\n",
      "(157, 9)\n",
      "(155, 9)\n",
      "(156, 9)\n",
      "(156, 9)\n",
      "(153, 9)\n",
      "(149, 9)\n",
      "(146, 9)\n",
      "(137, 9)\n"
     ]
    }
   ],
   "source": [
    "# Check dimension of data frames\n",
    "print(df_2015.shape)\n",
    "print(df_2016.shape)\n",
    "print(df_2017.shape)\n",
    "print(df_2018.shape)\n",
    "print(df_2019.shape)\n",
    "print(df_2020.shape)\n",
    "print(df_2021.shape)\n",
    "print(df_2022.shape)\n",
    "print(df_2023.shape)"
   ]
  },
  {
   "cell_type": "code",
   "execution_count": 5,
   "metadata": {},
   "outputs": [
    {
     "name": "stdout",
     "output_type": "stream",
     "text": [
      "Index(['country', 'region', 'happiness_score', 'gdp_per_capita',\n",
      "       'social_support', 'healthy_life_expectancy',\n",
      "       'freedom_to_make_life_choices', 'generosity',\n",
      "       'perceptions_of_corruption'],\n",
      "      dtype='object')\n",
      "Index(['country', 'region', 'happiness_score', 'gdp_per_capita',\n",
      "       'social_support', 'healthy_life_expectancy',\n",
      "       'freedom_to_make_life_choices', 'generosity',\n",
      "       'perceptions_of_corruption'],\n",
      "      dtype='object')\n",
      "Index(['country', 'region', 'happiness_score', 'gdp_per_capita',\n",
      "       'social_support', 'healthy_life_expectancy',\n",
      "       'freedom_to_make_life_choices', 'generosity',\n",
      "       'perceptions_of_corruption'],\n",
      "      dtype='object')\n",
      "Index(['country', 'region', 'happiness_score', 'gdp_per_capita',\n",
      "       'social_support', 'healthy_life_expectancy',\n",
      "       'freedom_to_make_life_choices', 'generosity',\n",
      "       'perceptions_of_corruption'],\n",
      "      dtype='object')\n"
     ]
    }
   ],
   "source": [
    "# Check colum names\n",
    "\n",
    "print(df_2020.columns)\n",
    "print(df_2021.columns)\n",
    "print(df_2022.columns)\n",
    "print(df_2023.columns)"
   ]
  },
  {
   "cell_type": "markdown",
   "metadata": {},
   "source": [
    "## 03. Wrangling data"
   ]
  },
  {
   "cell_type": "code",
   "execution_count": 6,
   "metadata": {},
   "outputs": [],
   "source": [
    "# Create new Year column for each df\n",
    "\n",
    "df_2015['year'] = '2015'\n",
    "df_2016['year'] = '2016'\n",
    "df_2017['year'] = '2017'\n",
    "df_2018['year'] = '2018'\n",
    "df_2019['year'] = '2019'\n",
    "df_2020['year'] = '2020'\n",
    "df_2021['year'] = '2021'\n",
    "df_2022['year'] = '2022'\n",
    "df_2023['year'] = '2023'"
   ]
  },
  {
   "cell_type": "code",
   "execution_count": 7,
   "metadata": {},
   "outputs": [],
   "source": [
    "# Create new column Happines rank\n",
    "\n",
    "# Sort the values in decending order\n",
    "\n",
    "df_2015 = df_2015.sort_values(by = 'happiness_score', ascending=False).reset_index(drop=True)\n",
    "df_2016 = df_2016.sort_values(by = 'happiness_score', ascending=False).reset_index(drop=True)\n",
    "df_2017 = df_2017.sort_values(by = 'happiness_score', ascending=False).reset_index(drop=True)\n",
    "df_2018 = df_2018.sort_values(by = 'happiness_score', ascending=False).reset_index(drop=True)\n",
    "df_2019 = df_2019.sort_values(by = 'happiness_score', ascending=False).reset_index(drop=True)\n",
    "df_2020 = df_2020.sort_values(by = 'happiness_score', ascending=False).reset_index(drop=True)\n",
    "df_2021 = df_2021.sort_values(by = 'happiness_score', ascending=False).reset_index(drop=True)\n",
    "df_2022 = df_2022.sort_values(by = 'happiness_score', ascending=False).reset_index(drop=True)\n",
    "df_2023 = df_2023.sort_values(by = 'happiness_score', ascending=False).reset_index(drop=True)\n"
   ]
  },
  {
   "cell_type": "code",
   "execution_count": 8,
   "metadata": {},
   "outputs": [],
   "source": [
    "# Set a new column happiness_rank\n",
    "\n",
    "df_2015['happiness_rank'] = df_2015.index + 1\n",
    "df_2016['happiness_rank'] = df_2016.index + 1\n",
    "df_2017['happiness_rank'] = df_2017.index + 1\n",
    "df_2018['happiness_rank'] = df_2018.index + 1\n",
    "df_2019['happiness_rank'] = df_2019.index + 1\n",
    "df_2020['happiness_rank'] = df_2020.index + 1\n",
    "df_2021['happiness_rank'] = df_2021.index + 1\n",
    "df_2022['happiness_rank'] = df_2022.index + 1\n",
    "df_2023['happiness_rank'] = df_2023.index + 1"
   ]
  },
  {
   "cell_type": "code",
   "execution_count": 9,
   "metadata": {},
   "outputs": [
    {
     "data": {
      "text/plain": [
       "Index(['country', 'region', 'happiness_score', 'gdp_per_capita',\n",
       "       'social_support', 'healthy_life_expectancy',\n",
       "       'freedom_to_make_life_choices', 'generosity',\n",
       "       'perceptions_of_corruption', 'year', 'happiness_rank'],\n",
       "      dtype='object')"
      ]
     },
     "execution_count": 9,
     "metadata": {},
     "output_type": "execute_result"
    }
   ],
   "source": [
    "df_2015.columns"
   ]
  },
  {
   "cell_type": "code",
   "execution_count": 10,
   "metadata": {},
   "outputs": [
    {
     "data": {
      "text/html": [
       "<div>\n",
       "<style scoped>\n",
       "    .dataframe tbody tr th:only-of-type {\n",
       "        vertical-align: middle;\n",
       "    }\n",
       "\n",
       "    .dataframe tbody tr th {\n",
       "        vertical-align: top;\n",
       "    }\n",
       "\n",
       "    .dataframe thead th {\n",
       "        text-align: right;\n",
       "    }\n",
       "</style>\n",
       "<table border=\"1\" class=\"dataframe\">\n",
       "  <thead>\n",
       "    <tr style=\"text-align: right;\">\n",
       "      <th></th>\n",
       "      <th>country</th>\n",
       "      <th>region</th>\n",
       "      <th>happiness_score</th>\n",
       "      <th>gdp_per_capita</th>\n",
       "      <th>social_support</th>\n",
       "      <th>healthy_life_expectancy</th>\n",
       "      <th>freedom_to_make_life_choices</th>\n",
       "      <th>generosity</th>\n",
       "      <th>perceptions_of_corruption</th>\n",
       "      <th>year</th>\n",
       "      <th>happiness_rank</th>\n",
       "    </tr>\n",
       "  </thead>\n",
       "  <tbody>\n",
       "    <tr>\n",
       "      <th>0</th>\n",
       "      <td>Finland</td>\n",
       "      <td>Western Europe</td>\n",
       "      <td>7.804</td>\n",
       "      <td>1.888</td>\n",
       "      <td>1.585</td>\n",
       "      <td>0.535</td>\n",
       "      <td>0.772</td>\n",
       "      <td>0.126</td>\n",
       "      <td>0.535</td>\n",
       "      <td>2023</td>\n",
       "      <td>1</td>\n",
       "    </tr>\n",
       "    <tr>\n",
       "      <th>1</th>\n",
       "      <td>Denmark</td>\n",
       "      <td>Western Europe</td>\n",
       "      <td>7.586</td>\n",
       "      <td>1.949</td>\n",
       "      <td>1.548</td>\n",
       "      <td>0.537</td>\n",
       "      <td>0.734</td>\n",
       "      <td>0.208</td>\n",
       "      <td>0.525</td>\n",
       "      <td>2023</td>\n",
       "      <td>2</td>\n",
       "    </tr>\n",
       "    <tr>\n",
       "      <th>2</th>\n",
       "      <td>Iceland</td>\n",
       "      <td>Western Europe</td>\n",
       "      <td>7.530</td>\n",
       "      <td>1.926</td>\n",
       "      <td>1.620</td>\n",
       "      <td>0.559</td>\n",
       "      <td>0.738</td>\n",
       "      <td>0.250</td>\n",
       "      <td>0.187</td>\n",
       "      <td>2023</td>\n",
       "      <td>3</td>\n",
       "    </tr>\n",
       "    <tr>\n",
       "      <th>3</th>\n",
       "      <td>Israel</td>\n",
       "      <td>Middle East and North Africa</td>\n",
       "      <td>7.473</td>\n",
       "      <td>1.833</td>\n",
       "      <td>1.521</td>\n",
       "      <td>0.577</td>\n",
       "      <td>0.569</td>\n",
       "      <td>0.124</td>\n",
       "      <td>0.158</td>\n",
       "      <td>2023</td>\n",
       "      <td>4</td>\n",
       "    </tr>\n",
       "    <tr>\n",
       "      <th>4</th>\n",
       "      <td>Netherlands</td>\n",
       "      <td>Western Europe</td>\n",
       "      <td>7.403</td>\n",
       "      <td>1.942</td>\n",
       "      <td>1.488</td>\n",
       "      <td>0.545</td>\n",
       "      <td>0.672</td>\n",
       "      <td>0.251</td>\n",
       "      <td>0.394</td>\n",
       "      <td>2023</td>\n",
       "      <td>5</td>\n",
       "    </tr>\n",
       "  </tbody>\n",
       "</table>\n",
       "</div>"
      ],
      "text/plain": [
       "       country                        region  happiness_score  gdp_per_capita  \\\n",
       "0      Finland                Western Europe            7.804           1.888   \n",
       "1      Denmark                Western Europe            7.586           1.949   \n",
       "2      Iceland                Western Europe            7.530           1.926   \n",
       "3       Israel  Middle East and North Africa            7.473           1.833   \n",
       "4  Netherlands                Western Europe            7.403           1.942   \n",
       "\n",
       "   social_support  healthy_life_expectancy  freedom_to_make_life_choices  \\\n",
       "0           1.585                    0.535                         0.772   \n",
       "1           1.548                    0.537                         0.734   \n",
       "2           1.620                    0.559                         0.738   \n",
       "3           1.521                    0.577                         0.569   \n",
       "4           1.488                    0.545                         0.672   \n",
       "\n",
       "   generosity  perceptions_of_corruption  year  happiness_rank  \n",
       "0       0.126                      0.535  2023               1  \n",
       "1       0.208                      0.525  2023               2  \n",
       "2       0.250                      0.187  2023               3  \n",
       "3       0.124                      0.158  2023               4  \n",
       "4       0.251                      0.394  2023               5  "
      ]
     },
     "execution_count": 10,
     "metadata": {},
     "output_type": "execute_result"
    }
   ],
   "source": [
    "df_2023.head()"
   ]
  },
  {
   "cell_type": "code",
   "execution_count": 11,
   "metadata": {},
   "outputs": [],
   "source": [
    "# Set the Country column as the index column for all DataFrames\n",
    "\n",
    "df_2015 = df_2015.set_index('country')\n",
    "df_2016 = df_2016.set_index('country')\n",
    "df_2017 = df_2017.set_index('country')\n",
    "df_2018 = df_2018.set_index('country')\n",
    "df_2019 = df_2019.set_index('country')\n",
    "df_2020 = df_2020.set_index('country')\n",
    "df_2021 = df_2021.set_index('country')\n",
    "df_2022 = df_2022.set_index('country')\n",
    "df_2023 = df_2023.set_index('country')"
   ]
  },
  {
   "cell_type": "markdown",
   "metadata": {},
   "source": [
    "## 04. Concatenating data"
   ]
  },
  {
   "cell_type": "code",
   "execution_count": 12,
   "metadata": {},
   "outputs": [
    {
     "name": "stdout",
     "output_type": "stream",
     "text": [
      "(1367, 10)\n"
     ]
    },
    {
     "data": {
      "text/html": [
       "<div>\n",
       "<style scoped>\n",
       "    .dataframe tbody tr th:only-of-type {\n",
       "        vertical-align: middle;\n",
       "    }\n",
       "\n",
       "    .dataframe tbody tr th {\n",
       "        vertical-align: top;\n",
       "    }\n",
       "\n",
       "    .dataframe thead th {\n",
       "        text-align: right;\n",
       "    }\n",
       "</style>\n",
       "<table border=\"1\" class=\"dataframe\">\n",
       "  <thead>\n",
       "    <tr style=\"text-align: right;\">\n",
       "      <th></th>\n",
       "      <th>region</th>\n",
       "      <th>happiness_score</th>\n",
       "      <th>gdp_per_capita</th>\n",
       "      <th>social_support</th>\n",
       "      <th>healthy_life_expectancy</th>\n",
       "      <th>freedom_to_make_life_choices</th>\n",
       "      <th>generosity</th>\n",
       "      <th>perceptions_of_corruption</th>\n",
       "      <th>year</th>\n",
       "      <th>happiness_rank</th>\n",
       "    </tr>\n",
       "    <tr>\n",
       "      <th>country</th>\n",
       "      <th></th>\n",
       "      <th></th>\n",
       "      <th></th>\n",
       "      <th></th>\n",
       "      <th></th>\n",
       "      <th></th>\n",
       "      <th></th>\n",
       "      <th></th>\n",
       "      <th></th>\n",
       "      <th></th>\n",
       "    </tr>\n",
       "  </thead>\n",
       "  <tbody>\n",
       "    <tr>\n",
       "      <th>Switzerland</th>\n",
       "      <td>Western Europe</td>\n",
       "      <td>7.587</td>\n",
       "      <td>1.39651</td>\n",
       "      <td>1.34951</td>\n",
       "      <td>0.94143</td>\n",
       "      <td>0.66557</td>\n",
       "      <td>0.29678</td>\n",
       "      <td>0.41978</td>\n",
       "      <td>2015</td>\n",
       "      <td>1</td>\n",
       "    </tr>\n",
       "    <tr>\n",
       "      <th>Iceland</th>\n",
       "      <td>Western Europe</td>\n",
       "      <td>7.561</td>\n",
       "      <td>1.30232</td>\n",
       "      <td>1.40223</td>\n",
       "      <td>0.94784</td>\n",
       "      <td>0.62877</td>\n",
       "      <td>0.43630</td>\n",
       "      <td>0.14145</td>\n",
       "      <td>2015</td>\n",
       "      <td>2</td>\n",
       "    </tr>\n",
       "    <tr>\n",
       "      <th>Denmark</th>\n",
       "      <td>Western Europe</td>\n",
       "      <td>7.527</td>\n",
       "      <td>1.32548</td>\n",
       "      <td>1.36058</td>\n",
       "      <td>0.87464</td>\n",
       "      <td>0.64938</td>\n",
       "      <td>0.34139</td>\n",
       "      <td>0.48357</td>\n",
       "      <td>2015</td>\n",
       "      <td>3</td>\n",
       "    </tr>\n",
       "    <tr>\n",
       "      <th>Norway</th>\n",
       "      <td>Western Europe</td>\n",
       "      <td>7.522</td>\n",
       "      <td>1.45900</td>\n",
       "      <td>1.33095</td>\n",
       "      <td>0.88521</td>\n",
       "      <td>0.66973</td>\n",
       "      <td>0.34699</td>\n",
       "      <td>0.36503</td>\n",
       "      <td>2015</td>\n",
       "      <td>4</td>\n",
       "    </tr>\n",
       "    <tr>\n",
       "      <th>Canada</th>\n",
       "      <td>North America and ANZ</td>\n",
       "      <td>7.427</td>\n",
       "      <td>1.32629</td>\n",
       "      <td>1.32261</td>\n",
       "      <td>0.90563</td>\n",
       "      <td>0.63297</td>\n",
       "      <td>0.45811</td>\n",
       "      <td>0.32957</td>\n",
       "      <td>2015</td>\n",
       "      <td>5</td>\n",
       "    </tr>\n",
       "  </tbody>\n",
       "</table>\n",
       "</div>"
      ],
      "text/plain": [
       "                            region  happiness_score  gdp_per_capita  \\\n",
       "country                                                               \n",
       "Switzerland         Western Europe            7.587         1.39651   \n",
       "Iceland             Western Europe            7.561         1.30232   \n",
       "Denmark             Western Europe            7.527         1.32548   \n",
       "Norway              Western Europe            7.522         1.45900   \n",
       "Canada       North America and ANZ            7.427         1.32629   \n",
       "\n",
       "             social_support  healthy_life_expectancy  \\\n",
       "country                                                \n",
       "Switzerland         1.34951                  0.94143   \n",
       "Iceland             1.40223                  0.94784   \n",
       "Denmark             1.36058                  0.87464   \n",
       "Norway              1.33095                  0.88521   \n",
       "Canada              1.32261                  0.90563   \n",
       "\n",
       "             freedom_to_make_life_choices  generosity  \\\n",
       "country                                                 \n",
       "Switzerland                       0.66557     0.29678   \n",
       "Iceland                           0.62877     0.43630   \n",
       "Denmark                           0.64938     0.34139   \n",
       "Norway                            0.66973     0.34699   \n",
       "Canada                            0.63297     0.45811   \n",
       "\n",
       "             perceptions_of_corruption  year  happiness_rank  \n",
       "country                                                       \n",
       "Switzerland                    0.41978  2015               1  \n",
       "Iceland                        0.14145  2015               2  \n",
       "Denmark                        0.48357  2015               3  \n",
       "Norway                         0.36503  2015               4  \n",
       "Canada                         0.32957  2015               5  "
      ]
     },
     "execution_count": 12,
     "metadata": {},
     "output_type": "execute_result"
    }
   ],
   "source": [
    "df = pd.concat([df_2015, df_2016, df_2017, df_2018, df_2019, df_2020, df_2021, df_2022, df_2023])\n",
    "print(df.shape)\n",
    "df.head()"
   ]
  },
  {
   "cell_type": "markdown",
   "metadata": {},
   "source": [
    "## 05. Consistency checks"
   ]
  },
  {
   "cell_type": "markdown",
   "metadata": {},
   "source": [
    "#### Mixed data types"
   ]
  },
  {
   "cell_type": "code",
   "execution_count": 13,
   "metadata": {},
   "outputs": [
    {
     "data": {
      "text/plain": [
       "region                           object\n",
       "happiness_score                 float64\n",
       "gdp_per_capita                  float64\n",
       "social_support                  float64\n",
       "healthy_life_expectancy         float64\n",
       "freedom_to_make_life_choices    float64\n",
       "generosity                      float64\n",
       "perceptions_of_corruption       float64\n",
       "year                             object\n",
       "happiness_rank                    int64\n",
       "dtype: object"
      ]
     },
     "execution_count": 13,
     "metadata": {},
     "output_type": "execute_result"
    }
   ],
   "source": [
    "# Check data types of columns\n",
    "\n",
    "df.dtypes"
   ]
  },
  {
   "cell_type": "code",
   "execution_count": 14,
   "metadata": {},
   "outputs": [],
   "source": [
    "# Check df for mixed types \n",
    "\n",
    "for col in df.columns.tolist():\n",
    "  weird = (df[[col]].applymap(type) != df[[col]].iloc[0].apply(type)).any(axis = 1)\n",
    "  if len (df[weird]) > 0:\n",
    "    print (col)"
   ]
  },
  {
   "cell_type": "code",
   "execution_count": 15,
   "metadata": {},
   "outputs": [
    {
     "data": {
      "text/plain": [
       "region                           object\n",
       "happiness_score                 float64\n",
       "gdp_per_capita                  float64\n",
       "social_support                  float64\n",
       "healthy_life_expectancy         float64\n",
       "freedom_to_make_life_choices    float64\n",
       "generosity                      float64\n",
       "perceptions_of_corruption       float64\n",
       "year                             object\n",
       "happiness_rank                    int64\n",
       "dtype: object"
      ]
     },
     "execution_count": 15,
     "metadata": {},
     "output_type": "execute_result"
    }
   ],
   "source": [
    "# Check data types of columns\n",
    "\n",
    "df.dtypes"
   ]
  },
  {
   "cell_type": "code",
   "execution_count": 16,
   "metadata": {},
   "outputs": [],
   "source": [
    "# Change 'year' data type\n",
    "\n",
    "df['year'] = df['year'].astype(int)"
   ]
  },
  {
   "cell_type": "markdown",
   "metadata": {},
   "source": [
    "#### Missing values"
   ]
  },
  {
   "cell_type": "code",
   "execution_count": 17,
   "metadata": {},
   "outputs": [
    {
     "data": {
      "text/plain": [
       "region                          0\n",
       "happiness_score                 0\n",
       "gdp_per_capita                  0\n",
       "social_support                  0\n",
       "healthy_life_expectancy         1\n",
       "freedom_to_make_life_choices    0\n",
       "generosity                      0\n",
       "perceptions_of_corruption       1\n",
       "year                            0\n",
       "happiness_rank                  0\n",
       "dtype: int64"
      ]
     },
     "execution_count": 17,
     "metadata": {},
     "output_type": "execute_result"
    }
   ],
   "source": [
    "# Check for missing values\n",
    "\n",
    "df.isnull().sum()"
   ]
  },
  {
   "cell_type": "code",
   "execution_count": 18,
   "metadata": {},
   "outputs": [
    {
     "data": {
      "text/html": [
       "<div>\n",
       "<style scoped>\n",
       "    .dataframe tbody tr th:only-of-type {\n",
       "        vertical-align: middle;\n",
       "    }\n",
       "\n",
       "    .dataframe tbody tr th {\n",
       "        vertical-align: top;\n",
       "    }\n",
       "\n",
       "    .dataframe thead th {\n",
       "        text-align: right;\n",
       "    }\n",
       "</style>\n",
       "<table border=\"1\" class=\"dataframe\">\n",
       "  <thead>\n",
       "    <tr style=\"text-align: right;\">\n",
       "      <th></th>\n",
       "      <th>region</th>\n",
       "      <th>happiness_score</th>\n",
       "      <th>gdp_per_capita</th>\n",
       "      <th>social_support</th>\n",
       "      <th>healthy_life_expectancy</th>\n",
       "      <th>freedom_to_make_life_choices</th>\n",
       "      <th>generosity</th>\n",
       "      <th>perceptions_of_corruption</th>\n",
       "      <th>year</th>\n",
       "      <th>happiness_rank</th>\n",
       "    </tr>\n",
       "    <tr>\n",
       "      <th>country</th>\n",
       "      <th></th>\n",
       "      <th></th>\n",
       "      <th></th>\n",
       "      <th></th>\n",
       "      <th></th>\n",
       "      <th></th>\n",
       "      <th></th>\n",
       "      <th></th>\n",
       "      <th></th>\n",
       "      <th></th>\n",
       "    </tr>\n",
       "  </thead>\n",
       "  <tbody>\n",
       "    <tr>\n",
       "      <th>State of Palestine</th>\n",
       "      <td>Middle East and North Africa</td>\n",
       "      <td>4.908</td>\n",
       "      <td>1.144</td>\n",
       "      <td>1.309</td>\n",
       "      <td>NaN</td>\n",
       "      <td>0.416</td>\n",
       "      <td>0.065</td>\n",
       "      <td>0.067</td>\n",
       "      <td>2023</td>\n",
       "      <td>99</td>\n",
       "    </tr>\n",
       "  </tbody>\n",
       "</table>\n",
       "</div>"
      ],
      "text/plain": [
       "                                          region  happiness_score  \\\n",
       "country                                                             \n",
       "State of Palestine  Middle East and North Africa            4.908   \n",
       "\n",
       "                    gdp_per_capita  social_support  healthy_life_expectancy  \\\n",
       "country                                                                       \n",
       "State of Palestine           1.144           1.309                      NaN   \n",
       "\n",
       "                    freedom_to_make_life_choices  generosity  \\\n",
       "country                                                        \n",
       "State of Palestine                         0.416       0.065   \n",
       "\n",
       "                    perceptions_of_corruption  year  happiness_rank  \n",
       "country                                                              \n",
       "State of Palestine                      0.067  2023              99  "
      ]
     },
     "execution_count": 18,
     "metadata": {},
     "output_type": "execute_result"
    }
   ],
   "source": [
    "# Check the missing values\n",
    "\n",
    "df[df['healthy_life_expectancy'].isna()]"
   ]
  },
  {
   "cell_type": "code",
   "execution_count": 19,
   "metadata": {},
   "outputs": [
    {
     "data": {
      "text/html": [
       "<div>\n",
       "<style scoped>\n",
       "    .dataframe tbody tr th:only-of-type {\n",
       "        vertical-align: middle;\n",
       "    }\n",
       "\n",
       "    .dataframe tbody tr th {\n",
       "        vertical-align: top;\n",
       "    }\n",
       "\n",
       "    .dataframe thead th {\n",
       "        text-align: right;\n",
       "    }\n",
       "</style>\n",
       "<table border=\"1\" class=\"dataframe\">\n",
       "  <thead>\n",
       "    <tr style=\"text-align: right;\">\n",
       "      <th></th>\n",
       "      <th>region</th>\n",
       "      <th>happiness_score</th>\n",
       "      <th>gdp_per_capita</th>\n",
       "      <th>social_support</th>\n",
       "      <th>healthy_life_expectancy</th>\n",
       "      <th>freedom_to_make_life_choices</th>\n",
       "      <th>generosity</th>\n",
       "      <th>perceptions_of_corruption</th>\n",
       "      <th>year</th>\n",
       "      <th>happiness_rank</th>\n",
       "    </tr>\n",
       "    <tr>\n",
       "      <th>country</th>\n",
       "      <th></th>\n",
       "      <th></th>\n",
       "      <th></th>\n",
       "      <th></th>\n",
       "      <th></th>\n",
       "      <th></th>\n",
       "      <th></th>\n",
       "      <th></th>\n",
       "      <th></th>\n",
       "      <th></th>\n",
       "    </tr>\n",
       "  </thead>\n",
       "  <tbody>\n",
       "    <tr>\n",
       "      <th>State of Palestine</th>\n",
       "      <td>Middle East and North Africa</td>\n",
       "      <td>4.908</td>\n",
       "      <td>1.144</td>\n",
       "      <td>1.309</td>\n",
       "      <td>NaN</td>\n",
       "      <td>0.416</td>\n",
       "      <td>0.065</td>\n",
       "      <td>0.067</td>\n",
       "      <td>2023</td>\n",
       "      <td>99</td>\n",
       "    </tr>\n",
       "  </tbody>\n",
       "</table>\n",
       "</div>"
      ],
      "text/plain": [
       "                                          region  happiness_score  \\\n",
       "country                                                             \n",
       "State of Palestine  Middle East and North Africa            4.908   \n",
       "\n",
       "                    gdp_per_capita  social_support  healthy_life_expectancy  \\\n",
       "country                                                                       \n",
       "State of Palestine           1.144           1.309                      NaN   \n",
       "\n",
       "                    freedom_to_make_life_choices  generosity  \\\n",
       "country                                                        \n",
       "State of Palestine                         0.416       0.065   \n",
       "\n",
       "                    perceptions_of_corruption  year  happiness_rank  \n",
       "country                                                              \n",
       "State of Palestine                      0.067  2023              99  "
      ]
     },
     "execution_count": 19,
     "metadata": {},
     "output_type": "execute_result"
    }
   ],
   "source": [
    "df[df.index == 'State of Palestine']"
   ]
  },
  {
   "cell_type": "code",
   "execution_count": 20,
   "metadata": {},
   "outputs": [],
   "source": [
    "# Palestine apears only in 2023 so i will drop this line \n",
    "\n",
    "df = df.drop('State of Palestine')"
   ]
  },
  {
   "cell_type": "code",
   "execution_count": 23,
   "metadata": {},
   "outputs": [
    {
     "data": {
      "text/html": [
       "<div>\n",
       "<style scoped>\n",
       "    .dataframe tbody tr th:only-of-type {\n",
       "        vertical-align: middle;\n",
       "    }\n",
       "\n",
       "    .dataframe tbody tr th {\n",
       "        vertical-align: top;\n",
       "    }\n",
       "\n",
       "    .dataframe thead th {\n",
       "        text-align: right;\n",
       "    }\n",
       "</style>\n",
       "<table border=\"1\" class=\"dataframe\">\n",
       "  <thead>\n",
       "    <tr style=\"text-align: right;\">\n",
       "      <th></th>\n",
       "      <th>region</th>\n",
       "      <th>happiness_score</th>\n",
       "      <th>gdp_per_capita</th>\n",
       "      <th>social_support</th>\n",
       "      <th>healthy_life_expectancy</th>\n",
       "      <th>freedom_to_make_life_choices</th>\n",
       "      <th>generosity</th>\n",
       "      <th>perceptions_of_corruption</th>\n",
       "      <th>year</th>\n",
       "      <th>happiness_rank</th>\n",
       "    </tr>\n",
       "    <tr>\n",
       "      <th>country</th>\n",
       "      <th></th>\n",
       "      <th></th>\n",
       "      <th></th>\n",
       "      <th></th>\n",
       "      <th></th>\n",
       "      <th></th>\n",
       "      <th></th>\n",
       "      <th></th>\n",
       "      <th></th>\n",
       "      <th></th>\n",
       "    </tr>\n",
       "  </thead>\n",
       "  <tbody>\n",
       "    <tr>\n",
       "      <th>United Arab Emirates</th>\n",
       "      <td>Middle East and North Africa</td>\n",
       "      <td>6.774</td>\n",
       "      <td>2.096</td>\n",
       "      <td>0.776</td>\n",
       "      <td>0.67</td>\n",
       "      <td>0.284</td>\n",
       "      <td>0.186</td>\n",
       "      <td>NaN</td>\n",
       "      <td>2018</td>\n",
       "      <td>20</td>\n",
       "    </tr>\n",
       "  </tbody>\n",
       "</table>\n",
       "</div>"
      ],
      "text/plain": [
       "                                            region  happiness_score  \\\n",
       "country                                                               \n",
       "United Arab Emirates  Middle East and North Africa            6.774   \n",
       "\n",
       "                      gdp_per_capita  social_support  healthy_life_expectancy  \\\n",
       "country                                                                         \n",
       "United Arab Emirates           2.096           0.776                     0.67   \n",
       "\n",
       "                      freedom_to_make_life_choices  generosity  \\\n",
       "country                                                          \n",
       "United Arab Emirates                         0.284       0.186   \n",
       "\n",
       "                      perceptions_of_corruption  year  happiness_rank  \n",
       "country                                                                \n",
       "United Arab Emirates                        NaN  2018              20  "
      ]
     },
     "execution_count": 23,
     "metadata": {},
     "output_type": "execute_result"
    }
   ],
   "source": [
    "df[df['perceptions_of_corruption'].isna()]\n"
   ]
  },
  {
   "cell_type": "code",
   "execution_count": 24,
   "metadata": {},
   "outputs": [
    {
     "data": {
      "text/html": [
       "<div>\n",
       "<style scoped>\n",
       "    .dataframe tbody tr th:only-of-type {\n",
       "        vertical-align: middle;\n",
       "    }\n",
       "\n",
       "    .dataframe tbody tr th {\n",
       "        vertical-align: top;\n",
       "    }\n",
       "\n",
       "    .dataframe thead th {\n",
       "        text-align: right;\n",
       "    }\n",
       "</style>\n",
       "<table border=\"1\" class=\"dataframe\">\n",
       "  <thead>\n",
       "    <tr style=\"text-align: right;\">\n",
       "      <th></th>\n",
       "      <th>region</th>\n",
       "      <th>happiness_score</th>\n",
       "      <th>gdp_per_capita</th>\n",
       "      <th>social_support</th>\n",
       "      <th>healthy_life_expectancy</th>\n",
       "      <th>freedom_to_make_life_choices</th>\n",
       "      <th>generosity</th>\n",
       "      <th>perceptions_of_corruption</th>\n",
       "      <th>year</th>\n",
       "      <th>happiness_rank</th>\n",
       "    </tr>\n",
       "    <tr>\n",
       "      <th>country</th>\n",
       "      <th></th>\n",
       "      <th></th>\n",
       "      <th></th>\n",
       "      <th></th>\n",
       "      <th></th>\n",
       "      <th></th>\n",
       "      <th></th>\n",
       "      <th></th>\n",
       "      <th></th>\n",
       "      <th></th>\n",
       "    </tr>\n",
       "  </thead>\n",
       "  <tbody>\n",
       "    <tr>\n",
       "      <th>United Arab Emirates</th>\n",
       "      <td>Middle East and North Africa</td>\n",
       "      <td>6.9010</td>\n",
       "      <td>1.427270</td>\n",
       "      <td>1.125750</td>\n",
       "      <td>0.809250</td>\n",
       "      <td>0.641570</td>\n",
       "      <td>0.264280</td>\n",
       "      <td>0.385830</td>\n",
       "      <td>2015</td>\n",
       "      <td>20</td>\n",
       "    </tr>\n",
       "    <tr>\n",
       "      <th>United Arab Emirates</th>\n",
       "      <td>Middle East and North Africa</td>\n",
       "      <td>6.5730</td>\n",
       "      <td>1.573520</td>\n",
       "      <td>0.871140</td>\n",
       "      <td>0.729930</td>\n",
       "      <td>0.562150</td>\n",
       "      <td>0.265910</td>\n",
       "      <td>0.355610</td>\n",
       "      <td>2016</td>\n",
       "      <td>28</td>\n",
       "    </tr>\n",
       "    <tr>\n",
       "      <th>United Arab Emirates</th>\n",
       "      <td>Middle East and North Africa</td>\n",
       "      <td>6.6480</td>\n",
       "      <td>1.626343</td>\n",
       "      <td>1.266410</td>\n",
       "      <td>0.726798</td>\n",
       "      <td>0.608345</td>\n",
       "      <td>0.360942</td>\n",
       "      <td>0.324490</td>\n",
       "      <td>2017</td>\n",
       "      <td>21</td>\n",
       "    </tr>\n",
       "    <tr>\n",
       "      <th>United Arab Emirates</th>\n",
       "      <td>Middle East and North Africa</td>\n",
       "      <td>6.7740</td>\n",
       "      <td>2.096000</td>\n",
       "      <td>0.776000</td>\n",
       "      <td>0.670000</td>\n",
       "      <td>0.284000</td>\n",
       "      <td>0.186000</td>\n",
       "      <td>NaN</td>\n",
       "      <td>2018</td>\n",
       "      <td>20</td>\n",
       "    </tr>\n",
       "    <tr>\n",
       "      <th>United Arab Emirates</th>\n",
       "      <td>Middle East and North Africa</td>\n",
       "      <td>6.8250</td>\n",
       "      <td>1.503000</td>\n",
       "      <td>1.310000</td>\n",
       "      <td>0.825000</td>\n",
       "      <td>0.598000</td>\n",
       "      <td>0.262000</td>\n",
       "      <td>0.182000</td>\n",
       "      <td>2019</td>\n",
       "      <td>21</td>\n",
       "    </tr>\n",
       "    <tr>\n",
       "      <th>United Arab Emirates</th>\n",
       "      <td>Middle East and North Africa</td>\n",
       "      <td>6.7908</td>\n",
       "      <td>1.431086</td>\n",
       "      <td>1.251171</td>\n",
       "      <td>0.787814</td>\n",
       "      <td>0.652936</td>\n",
       "      <td>0.280656</td>\n",
       "      <td>0.220214</td>\n",
       "      <td>2020</td>\n",
       "      <td>21</td>\n",
       "    </tr>\n",
       "    <tr>\n",
       "      <th>United Arab Emirates</th>\n",
       "      <td>Middle East and North Africa</td>\n",
       "      <td>6.5610</td>\n",
       "      <td>1.555000</td>\n",
       "      <td>0.860000</td>\n",
       "      <td>0.594000</td>\n",
       "      <td>0.670000</td>\n",
       "      <td>0.236000</td>\n",
       "      <td>0.223000</td>\n",
       "      <td>2021</td>\n",
       "      <td>25</td>\n",
       "    </tr>\n",
       "    <tr>\n",
       "      <th>United Arab Emirates</th>\n",
       "      <td>Middle East and North Africa</td>\n",
       "      <td>6.5760</td>\n",
       "      <td>1.998000</td>\n",
       "      <td>0.980000</td>\n",
       "      <td>0.633000</td>\n",
       "      <td>0.702000</td>\n",
       "      <td>0.204000</td>\n",
       "      <td>0.250000</td>\n",
       "      <td>2022</td>\n",
       "      <td>24</td>\n",
       "    </tr>\n",
       "    <tr>\n",
       "      <th>United Arab Emirates</th>\n",
       "      <td>Middle East and North Africa</td>\n",
       "      <td>6.5710</td>\n",
       "      <td>2.015000</td>\n",
       "      <td>1.223000</td>\n",
       "      <td>0.401000</td>\n",
       "      <td>0.745000</td>\n",
       "      <td>0.188000</td>\n",
       "      <td>0.247000</td>\n",
       "      <td>2023</td>\n",
       "      <td>26</td>\n",
       "    </tr>\n",
       "  </tbody>\n",
       "</table>\n",
       "</div>"
      ],
      "text/plain": [
       "                                            region  happiness_score  \\\n",
       "country                                                               \n",
       "United Arab Emirates  Middle East and North Africa           6.9010   \n",
       "United Arab Emirates  Middle East and North Africa           6.5730   \n",
       "United Arab Emirates  Middle East and North Africa           6.6480   \n",
       "United Arab Emirates  Middle East and North Africa           6.7740   \n",
       "United Arab Emirates  Middle East and North Africa           6.8250   \n",
       "United Arab Emirates  Middle East and North Africa           6.7908   \n",
       "United Arab Emirates  Middle East and North Africa           6.5610   \n",
       "United Arab Emirates  Middle East and North Africa           6.5760   \n",
       "United Arab Emirates  Middle East and North Africa           6.5710   \n",
       "\n",
       "                      gdp_per_capita  social_support  healthy_life_expectancy  \\\n",
       "country                                                                         \n",
       "United Arab Emirates        1.427270        1.125750                 0.809250   \n",
       "United Arab Emirates        1.573520        0.871140                 0.729930   \n",
       "United Arab Emirates        1.626343        1.266410                 0.726798   \n",
       "United Arab Emirates        2.096000        0.776000                 0.670000   \n",
       "United Arab Emirates        1.503000        1.310000                 0.825000   \n",
       "United Arab Emirates        1.431086        1.251171                 0.787814   \n",
       "United Arab Emirates        1.555000        0.860000                 0.594000   \n",
       "United Arab Emirates        1.998000        0.980000                 0.633000   \n",
       "United Arab Emirates        2.015000        1.223000                 0.401000   \n",
       "\n",
       "                      freedom_to_make_life_choices  generosity  \\\n",
       "country                                                          \n",
       "United Arab Emirates                      0.641570    0.264280   \n",
       "United Arab Emirates                      0.562150    0.265910   \n",
       "United Arab Emirates                      0.608345    0.360942   \n",
       "United Arab Emirates                      0.284000    0.186000   \n",
       "United Arab Emirates                      0.598000    0.262000   \n",
       "United Arab Emirates                      0.652936    0.280656   \n",
       "United Arab Emirates                      0.670000    0.236000   \n",
       "United Arab Emirates                      0.702000    0.204000   \n",
       "United Arab Emirates                      0.745000    0.188000   \n",
       "\n",
       "                      perceptions_of_corruption  year  happiness_rank  \n",
       "country                                                                \n",
       "United Arab Emirates                   0.385830  2015              20  \n",
       "United Arab Emirates                   0.355610  2016              28  \n",
       "United Arab Emirates                   0.324490  2017              21  \n",
       "United Arab Emirates                        NaN  2018              20  \n",
       "United Arab Emirates                   0.182000  2019              21  \n",
       "United Arab Emirates                   0.220214  2020              21  \n",
       "United Arab Emirates                   0.223000  2021              25  \n",
       "United Arab Emirates                   0.250000  2022              24  \n",
       "United Arab Emirates                   0.247000  2023              26  "
      ]
     },
     "execution_count": 24,
     "metadata": {},
     "output_type": "execute_result"
    }
   ],
   "source": [
    "df[df.index == 'United Arab Emirates']"
   ]
  },
  {
   "cell_type": "code",
   "execution_count": 26,
   "metadata": {},
   "outputs": [
    {
     "ename": "KeyError",
     "evalue": "'corruption_perceptions'",
     "output_type": "error",
     "traceback": [
      "\u001b[0;31m---------------------------------------------------------------------------\u001b[0m",
      "\u001b[0;31mKeyError\u001b[0m                                  Traceback (most recent call last)",
      "\u001b[0;32m~/opt/anaconda3/lib/python3.8/site-packages/pandas/core/indexes/base.py\u001b[0m in \u001b[0;36mget_loc\u001b[0;34m(self, key, method, tolerance)\u001b[0m\n\u001b[1;32m   2894\u001b[0m             \u001b[0;32mtry\u001b[0m\u001b[0;34m:\u001b[0m\u001b[0;34m\u001b[0m\u001b[0;34m\u001b[0m\u001b[0m\n\u001b[0;32m-> 2895\u001b[0;31m                 \u001b[0;32mreturn\u001b[0m \u001b[0mself\u001b[0m\u001b[0;34m.\u001b[0m\u001b[0m_engine\u001b[0m\u001b[0;34m.\u001b[0m\u001b[0mget_loc\u001b[0m\u001b[0;34m(\u001b[0m\u001b[0mcasted_key\u001b[0m\u001b[0;34m)\u001b[0m\u001b[0;34m\u001b[0m\u001b[0;34m\u001b[0m\u001b[0m\n\u001b[0m\u001b[1;32m   2896\u001b[0m             \u001b[0;32mexcept\u001b[0m \u001b[0mKeyError\u001b[0m \u001b[0;32mas\u001b[0m \u001b[0merr\u001b[0m\u001b[0;34m:\u001b[0m\u001b[0;34m\u001b[0m\u001b[0;34m\u001b[0m\u001b[0m\n",
      "\u001b[0;32mpandas/_libs/index.pyx\u001b[0m in \u001b[0;36mpandas._libs.index.IndexEngine.get_loc\u001b[0;34m()\u001b[0m\n",
      "\u001b[0;32mpandas/_libs/index.pyx\u001b[0m in \u001b[0;36mpandas._libs.index.IndexEngine.get_loc\u001b[0;34m()\u001b[0m\n",
      "\u001b[0;32mpandas/_libs/hashtable_class_helper.pxi\u001b[0m in \u001b[0;36mpandas._libs.hashtable.PyObjectHashTable.get_item\u001b[0;34m()\u001b[0m\n",
      "\u001b[0;32mpandas/_libs/hashtable_class_helper.pxi\u001b[0m in \u001b[0;36mpandas._libs.hashtable.PyObjectHashTable.get_item\u001b[0;34m()\u001b[0m\n",
      "\u001b[0;31mKeyError\u001b[0m: 'corruption_perceptions'",
      "\nThe above exception was the direct cause of the following exception:\n",
      "\u001b[0;31mKeyError\u001b[0m                                  Traceback (most recent call last)",
      "\u001b[0;32m<ipython-input-26-c09e2213c209>\u001b[0m in \u001b[0;36m<module>\u001b[0;34m\u001b[0m\n\u001b[1;32m      3\u001b[0m \u001b[0mdf\u001b[0m\u001b[0;34m.\u001b[0m\u001b[0mloc\u001b[0m\u001b[0;34m[\u001b[0m\u001b[0;34m(\u001b[0m\u001b[0mdf\u001b[0m\u001b[0;34m.\u001b[0m\u001b[0mindex\u001b[0m \u001b[0;34m==\u001b[0m \u001b[0;34m'United Arab Emirates'\u001b[0m\u001b[0;34m)\u001b[0m \u001b[0;34m&\u001b[0m \u001b[0;34m(\u001b[0m\u001b[0mdf\u001b[0m\u001b[0;34m[\u001b[0m\u001b[0;34m'year'\u001b[0m\u001b[0;34m]\u001b[0m \u001b[0;34m==\u001b[0m \u001b[0;36m2018\u001b[0m\u001b[0;34m)\u001b[0m\u001b[0;34m,\u001b[0m \u001b[0;34m'perceptions_of_corruption'\u001b[0m\u001b[0;34m]\u001b[0m \u001b[0;34m=\u001b[0m \u001b[0mmean\u001b[0m\u001b[0;34m\u001b[0m\u001b[0;34m\u001b[0m\u001b[0m\n\u001b[1;32m      4\u001b[0m \u001b[0;34m\u001b[0m\u001b[0m\n\u001b[0;32m----> 5\u001b[0;31m \u001b[0mdf\u001b[0m\u001b[0;34m[\u001b[0m\u001b[0;34m'corruption_perceptions'\u001b[0m\u001b[0;34m]\u001b[0m\u001b[0;34m.\u001b[0m\u001b[0mfillna\u001b[0m\u001b[0;34m(\u001b[0m\u001b[0mmean\u001b[0m\u001b[0;34m,\u001b[0m \u001b[0minplace\u001b[0m\u001b[0;34m=\u001b[0m\u001b[0;32mTrue\u001b[0m\u001b[0;34m)\u001b[0m\u001b[0;34m\u001b[0m\u001b[0;34m\u001b[0m\u001b[0m\n\u001b[0m",
      "\u001b[0;32m~/opt/anaconda3/lib/python3.8/site-packages/pandas/core/frame.py\u001b[0m in \u001b[0;36m__getitem__\u001b[0;34m(self, key)\u001b[0m\n\u001b[1;32m   2900\u001b[0m             \u001b[0;32mif\u001b[0m \u001b[0mself\u001b[0m\u001b[0;34m.\u001b[0m\u001b[0mcolumns\u001b[0m\u001b[0;34m.\u001b[0m\u001b[0mnlevels\u001b[0m \u001b[0;34m>\u001b[0m \u001b[0;36m1\u001b[0m\u001b[0;34m:\u001b[0m\u001b[0;34m\u001b[0m\u001b[0;34m\u001b[0m\u001b[0m\n\u001b[1;32m   2901\u001b[0m                 \u001b[0;32mreturn\u001b[0m \u001b[0mself\u001b[0m\u001b[0;34m.\u001b[0m\u001b[0m_getitem_multilevel\u001b[0m\u001b[0;34m(\u001b[0m\u001b[0mkey\u001b[0m\u001b[0;34m)\u001b[0m\u001b[0;34m\u001b[0m\u001b[0;34m\u001b[0m\u001b[0m\n\u001b[0;32m-> 2902\u001b[0;31m             \u001b[0mindexer\u001b[0m \u001b[0;34m=\u001b[0m \u001b[0mself\u001b[0m\u001b[0;34m.\u001b[0m\u001b[0mcolumns\u001b[0m\u001b[0;34m.\u001b[0m\u001b[0mget_loc\u001b[0m\u001b[0;34m(\u001b[0m\u001b[0mkey\u001b[0m\u001b[0;34m)\u001b[0m\u001b[0;34m\u001b[0m\u001b[0;34m\u001b[0m\u001b[0m\n\u001b[0m\u001b[1;32m   2903\u001b[0m             \u001b[0;32mif\u001b[0m \u001b[0mis_integer\u001b[0m\u001b[0;34m(\u001b[0m\u001b[0mindexer\u001b[0m\u001b[0;34m)\u001b[0m\u001b[0;34m:\u001b[0m\u001b[0;34m\u001b[0m\u001b[0;34m\u001b[0m\u001b[0m\n\u001b[1;32m   2904\u001b[0m                 \u001b[0mindexer\u001b[0m \u001b[0;34m=\u001b[0m \u001b[0;34m[\u001b[0m\u001b[0mindexer\u001b[0m\u001b[0;34m]\u001b[0m\u001b[0;34m\u001b[0m\u001b[0;34m\u001b[0m\u001b[0m\n",
      "\u001b[0;32m~/opt/anaconda3/lib/python3.8/site-packages/pandas/core/indexes/base.py\u001b[0m in \u001b[0;36mget_loc\u001b[0;34m(self, key, method, tolerance)\u001b[0m\n\u001b[1;32m   2895\u001b[0m                 \u001b[0;32mreturn\u001b[0m \u001b[0mself\u001b[0m\u001b[0;34m.\u001b[0m\u001b[0m_engine\u001b[0m\u001b[0;34m.\u001b[0m\u001b[0mget_loc\u001b[0m\u001b[0;34m(\u001b[0m\u001b[0mcasted_key\u001b[0m\u001b[0;34m)\u001b[0m\u001b[0;34m\u001b[0m\u001b[0;34m\u001b[0m\u001b[0m\n\u001b[1;32m   2896\u001b[0m             \u001b[0;32mexcept\u001b[0m \u001b[0mKeyError\u001b[0m \u001b[0;32mas\u001b[0m \u001b[0merr\u001b[0m\u001b[0;34m:\u001b[0m\u001b[0;34m\u001b[0m\u001b[0;34m\u001b[0m\u001b[0m\n\u001b[0;32m-> 2897\u001b[0;31m                 \u001b[0;32mraise\u001b[0m \u001b[0mKeyError\u001b[0m\u001b[0;34m(\u001b[0m\u001b[0mkey\u001b[0m\u001b[0;34m)\u001b[0m \u001b[0;32mfrom\u001b[0m \u001b[0merr\u001b[0m\u001b[0;34m\u001b[0m\u001b[0;34m\u001b[0m\u001b[0m\n\u001b[0m\u001b[1;32m   2898\u001b[0m \u001b[0;34m\u001b[0m\u001b[0m\n\u001b[1;32m   2899\u001b[0m         \u001b[0;32mif\u001b[0m \u001b[0mtolerance\u001b[0m \u001b[0;32mis\u001b[0m \u001b[0;32mnot\u001b[0m \u001b[0;32mNone\u001b[0m\u001b[0;34m:\u001b[0m\u001b[0;34m\u001b[0m\u001b[0;34m\u001b[0m\u001b[0m\n",
      "\u001b[0;31mKeyError\u001b[0m: 'corruption_perceptions'"
     ]
    }
   ],
   "source": [
    "mean = df.loc[df.index == 'United Arab Emirates', 'perceptions_of_corruption'].mean()\n",
    "\n",
    "df.loc[(df.index == 'United Arab Emirates') & (df['year'] == 2018), 'perceptions_of_corruption'] = mean\n",
    "\n",
    "df['corruption_perceptions'].fillna(mean, inplace=True)"
   ]
  },
  {
   "cell_type": "code",
   "execution_count": 27,
   "metadata": {},
   "outputs": [
    {
     "data": {
      "text/plain": [
       "region                          0\n",
       "happiness_score                 0\n",
       "gdp_per_capita                  0\n",
       "social_support                  0\n",
       "healthy_life_expectancy         0\n",
       "freedom_to_make_life_choices    0\n",
       "generosity                      0\n",
       "perceptions_of_corruption       0\n",
       "year                            0\n",
       "happiness_rank                  0\n",
       "dtype: int64"
      ]
     },
     "execution_count": 27,
     "metadata": {},
     "output_type": "execute_result"
    }
   ],
   "source": [
    "# Check for missing values\n",
    "\n",
    "df.isnull().sum()"
   ]
  },
  {
   "cell_type": "markdown",
   "metadata": {},
   "source": [
    "#### Duplicated values"
   ]
  },
  {
   "cell_type": "code",
   "execution_count": 28,
   "metadata": {},
   "outputs": [
    {
     "data": {
      "text/html": [
       "<div>\n",
       "<style scoped>\n",
       "    .dataframe tbody tr th:only-of-type {\n",
       "        vertical-align: middle;\n",
       "    }\n",
       "\n",
       "    .dataframe tbody tr th {\n",
       "        vertical-align: top;\n",
       "    }\n",
       "\n",
       "    .dataframe thead th {\n",
       "        text-align: right;\n",
       "    }\n",
       "</style>\n",
       "<table border=\"1\" class=\"dataframe\">\n",
       "  <thead>\n",
       "    <tr style=\"text-align: right;\">\n",
       "      <th></th>\n",
       "      <th>region</th>\n",
       "      <th>happiness_score</th>\n",
       "      <th>gdp_per_capita</th>\n",
       "      <th>social_support</th>\n",
       "      <th>healthy_life_expectancy</th>\n",
       "      <th>freedom_to_make_life_choices</th>\n",
       "      <th>generosity</th>\n",
       "      <th>perceptions_of_corruption</th>\n",
       "      <th>year</th>\n",
       "      <th>happiness_rank</th>\n",
       "    </tr>\n",
       "    <tr>\n",
       "      <th>country</th>\n",
       "      <th></th>\n",
       "      <th></th>\n",
       "      <th></th>\n",
       "      <th></th>\n",
       "      <th></th>\n",
       "      <th></th>\n",
       "      <th></th>\n",
       "      <th></th>\n",
       "      <th></th>\n",
       "      <th></th>\n",
       "    </tr>\n",
       "  </thead>\n",
       "  <tbody>\n",
       "  </tbody>\n",
       "</table>\n",
       "</div>"
      ],
      "text/plain": [
       "Empty DataFrame\n",
       "Columns: [region, happiness_score, gdp_per_capita, social_support, healthy_life_expectancy, freedom_to_make_life_choices, generosity, perceptions_of_corruption, year, happiness_rank]\n",
       "Index: []"
      ]
     },
     "execution_count": 28,
     "metadata": {},
     "output_type": "execute_result"
    }
   ],
   "source": [
    "# Check for duplicated values\n",
    "\n",
    "df_dups = df[df.duplicated()]\n",
    "df_dups"
   ]
  },
  {
   "cell_type": "code",
   "execution_count": 29,
   "metadata": {},
   "outputs": [],
   "source": [
    "# Change column names for consistency\n",
    "\n",
    "df = df.rename(columns = {'perceptions_of_corruption' : 'corruption_perceptions'})"
   ]
  },
  {
   "cell_type": "markdown",
   "metadata": {},
   "source": [
    "## 06. Exporting data "
   ]
  },
  {
   "cell_type": "code",
   "execution_count": 30,
   "metadata": {},
   "outputs": [],
   "source": [
    "df.to_csv(os.path.join(path, 'Data', 'Prepared Data', '2015-2023.csv'))"
   ]
  },
  {
   "cell_type": "code",
   "execution_count": null,
   "metadata": {},
   "outputs": [],
   "source": []
  }
 ],
 "metadata": {
  "kernelspec": {
   "display_name": "Python 3",
   "language": "python",
   "name": "python3"
  },
  "language_info": {
   "codemirror_mode": {
    "name": "ipython",
    "version": 3
   },
   "file_extension": ".py",
   "mimetype": "text/x-python",
   "name": "python",
   "nbconvert_exporter": "python",
   "pygments_lexer": "ipython3",
   "version": "3.8.5"
  }
 },
 "nbformat": 4,
 "nbformat_minor": 4
}
