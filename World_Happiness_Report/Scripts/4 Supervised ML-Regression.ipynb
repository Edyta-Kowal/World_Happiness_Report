{
 "cells": [
  {
   "cell_type": "markdown",
   "metadata": {},
   "source": [
    "## Table of contents\n",
    "\n",
    "#### 01. Importing data and libraries\n",
    "#### 02. Data prep for regression analysis  \n",
    "    Scatterplot  \n",
    "    Hypothesis  \n",
    "    Reshaping  \n",
    "    Splitting\n",
    "#### 03. Regression analysis\n",
    "    Conclusions"
   ]
  },
  {
   "cell_type": "markdown",
   "metadata": {},
   "source": [
    "### 01. Importing data and libraries"
   ]
  },
  {
   "cell_type": "code",
   "execution_count": 1,
   "metadata": {},
   "outputs": [],
   "source": [
    "# Import the libraries\n",
    "\n",
    "import pandas as pd\n",
    "import numpy as np\n",
    "import seaborn as sns\n",
    "import matplotlib\n",
    "import matplotlib.pyplot as plt\n",
    "import os\n",
    "import sklearn\n",
    "from sklearn.model_selection import train_test_split \n",
    "from sklearn.linear_model import LinearRegression\n",
    "from sklearn.metrics import mean_squared_error, r2_score"
   ]
  },
  {
   "cell_type": "code",
   "execution_count": 2,
   "metadata": {},
   "outputs": [],
   "source": [
    "# Create a folder path\n",
    "\n",
    "path = r'/Users/edytakowal/Desktop/CareerFoundry/2. Data Immersion/6. Advanced Analytics & Dashboard Design/World_Happiness_Report'"
   ]
  },
  {
   "cell_type": "code",
   "execution_count": 3,
   "metadata": {},
   "outputs": [
    {
     "data": {
      "text/html": [
       "<div>\n",
       "<style scoped>\n",
       "    .dataframe tbody tr th:only-of-type {\n",
       "        vertical-align: middle;\n",
       "    }\n",
       "\n",
       "    .dataframe tbody tr th {\n",
       "        vertical-align: top;\n",
       "    }\n",
       "\n",
       "    .dataframe thead th {\n",
       "        text-align: right;\n",
       "    }\n",
       "</style>\n",
       "<table border=\"1\" class=\"dataframe\">\n",
       "  <thead>\n",
       "    <tr style=\"text-align: right;\">\n",
       "      <th></th>\n",
       "      <th>Unnamed: 0</th>\n",
       "      <th>Unnamed: 0.1</th>\n",
       "      <th>country</th>\n",
       "      <th>region</th>\n",
       "      <th>happiness_score</th>\n",
       "      <th>gdp_per_capita</th>\n",
       "      <th>social_support</th>\n",
       "      <th>healthy_life_expectancy</th>\n",
       "      <th>freedom_to_make_life_choices</th>\n",
       "      <th>generosity</th>\n",
       "      <th>corruption_perceptions</th>\n",
       "      <th>year</th>\n",
       "      <th>happiness_rank</th>\n",
       "      <th>avg_happiness_score</th>\n",
       "      <th>happiness_category</th>\n",
       "      <th>annual_average</th>\n",
       "      <th>avg_annual_region</th>\n",
       "      <th>avg_annual</th>\n",
       "    </tr>\n",
       "  </thead>\n",
       "  <tbody>\n",
       "    <tr>\n",
       "      <th>0</th>\n",
       "      <td>0</td>\n",
       "      <td>0</td>\n",
       "      <td>Switzerland</td>\n",
       "      <td>Western Europe</td>\n",
       "      <td>7.587</td>\n",
       "      <td>1.39651</td>\n",
       "      <td>1.34951</td>\n",
       "      <td>0.94143</td>\n",
       "      <td>0.66557</td>\n",
       "      <td>0.29678</td>\n",
       "      <td>0.41978</td>\n",
       "      <td>2015</td>\n",
       "      <td>1</td>\n",
       "      <td>7.493322</td>\n",
       "      <td>Happy</td>\n",
       "      <td>5.375734</td>\n",
       "      <td>6.689619</td>\n",
       "      <td>5.375734</td>\n",
       "    </tr>\n",
       "    <tr>\n",
       "      <th>1</th>\n",
       "      <td>1</td>\n",
       "      <td>1</td>\n",
       "      <td>Iceland</td>\n",
       "      <td>Western Europe</td>\n",
       "      <td>7.561</td>\n",
       "      <td>1.30232</td>\n",
       "      <td>1.40223</td>\n",
       "      <td>0.94784</td>\n",
       "      <td>0.62877</td>\n",
       "      <td>0.43630</td>\n",
       "      <td>0.14145</td>\n",
       "      <td>2015</td>\n",
       "      <td>2</td>\n",
       "      <td>7.522278</td>\n",
       "      <td>Happy</td>\n",
       "      <td>5.375734</td>\n",
       "      <td>6.689619</td>\n",
       "      <td>5.375734</td>\n",
       "    </tr>\n",
       "    <tr>\n",
       "      <th>2</th>\n",
       "      <td>2</td>\n",
       "      <td>2</td>\n",
       "      <td>Denmark</td>\n",
       "      <td>Western Europe</td>\n",
       "      <td>7.527</td>\n",
       "      <td>1.32548</td>\n",
       "      <td>1.36058</td>\n",
       "      <td>0.87464</td>\n",
       "      <td>0.64938</td>\n",
       "      <td>0.34139</td>\n",
       "      <td>0.48357</td>\n",
       "      <td>2015</td>\n",
       "      <td>3</td>\n",
       "      <td>7.579733</td>\n",
       "      <td>Happy</td>\n",
       "      <td>5.375734</td>\n",
       "      <td>6.689619</td>\n",
       "      <td>5.375734</td>\n",
       "    </tr>\n",
       "    <tr>\n",
       "      <th>3</th>\n",
       "      <td>3</td>\n",
       "      <td>3</td>\n",
       "      <td>Norway</td>\n",
       "      <td>Western Europe</td>\n",
       "      <td>7.522</td>\n",
       "      <td>1.45900</td>\n",
       "      <td>1.33095</td>\n",
       "      <td>0.88521</td>\n",
       "      <td>0.66973</td>\n",
       "      <td>0.34699</td>\n",
       "      <td>0.36503</td>\n",
       "      <td>2015</td>\n",
       "      <td>4</td>\n",
       "      <td>7.473889</td>\n",
       "      <td>Happy</td>\n",
       "      <td>5.375734</td>\n",
       "      <td>6.689619</td>\n",
       "      <td>5.375734</td>\n",
       "    </tr>\n",
       "    <tr>\n",
       "      <th>4</th>\n",
       "      <td>4</td>\n",
       "      <td>4</td>\n",
       "      <td>Canada</td>\n",
       "      <td>North America and ANZ</td>\n",
       "      <td>7.427</td>\n",
       "      <td>1.32629</td>\n",
       "      <td>1.32261</td>\n",
       "      <td>0.90563</td>\n",
       "      <td>0.63297</td>\n",
       "      <td>0.45811</td>\n",
       "      <td>0.32957</td>\n",
       "      <td>2015</td>\n",
       "      <td>5</td>\n",
       "      <td>7.230456</td>\n",
       "      <td>Happy</td>\n",
       "      <td>5.375734</td>\n",
       "      <td>7.279000</td>\n",
       "      <td>5.375734</td>\n",
       "    </tr>\n",
       "  </tbody>\n",
       "</table>\n",
       "</div>"
      ],
      "text/plain": [
       "   Unnamed: 0  Unnamed: 0.1      country                 region  \\\n",
       "0           0             0  Switzerland         Western Europe   \n",
       "1           1             1      Iceland         Western Europe   \n",
       "2           2             2      Denmark         Western Europe   \n",
       "3           3             3       Norway         Western Europe   \n",
       "4           4             4       Canada  North America and ANZ   \n",
       "\n",
       "   happiness_score  gdp_per_capita  social_support  healthy_life_expectancy  \\\n",
       "0            7.587         1.39651         1.34951                  0.94143   \n",
       "1            7.561         1.30232         1.40223                  0.94784   \n",
       "2            7.527         1.32548         1.36058                  0.87464   \n",
       "3            7.522         1.45900         1.33095                  0.88521   \n",
       "4            7.427         1.32629         1.32261                  0.90563   \n",
       "\n",
       "   freedom_to_make_life_choices  generosity  corruption_perceptions  year  \\\n",
       "0                       0.66557     0.29678                 0.41978  2015   \n",
       "1                       0.62877     0.43630                 0.14145  2015   \n",
       "2                       0.64938     0.34139                 0.48357  2015   \n",
       "3                       0.66973     0.34699                 0.36503  2015   \n",
       "4                       0.63297     0.45811                 0.32957  2015   \n",
       "\n",
       "   happiness_rank  avg_happiness_score happiness_category  annual_average  \\\n",
       "0               1             7.493322              Happy        5.375734   \n",
       "1               2             7.522278              Happy        5.375734   \n",
       "2               3             7.579733              Happy        5.375734   \n",
       "3               4             7.473889              Happy        5.375734   \n",
       "4               5             7.230456              Happy        5.375734   \n",
       "\n",
       "   avg_annual_region  avg_annual  \n",
       "0           6.689619    5.375734  \n",
       "1           6.689619    5.375734  \n",
       "2           6.689619    5.375734  \n",
       "3           6.689619    5.375734  \n",
       "4           7.279000    5.375734  "
      ]
     },
     "execution_count": 3,
     "metadata": {},
     "output_type": "execute_result"
    }
   ],
   "source": [
    "# Import the data\n",
    "\n",
    "df = pd.read_csv(os.path.join(path, 'Data', 'Prepared Data', '2015-2023.csv'), index_col = False)\n",
    "df.head()"
   ]
  },
  {
   "cell_type": "code",
   "execution_count": 4,
   "metadata": {},
   "outputs": [
    {
     "data": {
      "text/plain": [
       "(1362, 18)"
      ]
     },
     "execution_count": 4,
     "metadata": {},
     "output_type": "execute_result"
    }
   ],
   "source": [
    "df.shape"
   ]
  },
  {
   "cell_type": "markdown",
   "metadata": {},
   "source": [
    "### 02. Data prep for regression analysis"
   ]
  },
  {
   "cell_type": "code",
   "execution_count": 5,
   "metadata": {},
   "outputs": [
    {
     "data": {
      "text/plain": [
       "Index(['Unnamed: 0', 'Unnamed: 0.1', 'country', 'region', 'happiness_score',\n",
       "       'gdp_per_capita', 'social_support', 'healthy_life_expectancy',\n",
       "       'freedom_to_make_life_choices', 'generosity', 'corruption_perceptions',\n",
       "       'year', 'happiness_rank', 'avg_happiness_score', 'happiness_category',\n",
       "       'annual_average', 'avg_annual_region', 'avg_annual'],\n",
       "      dtype='object')"
      ]
     },
     "execution_count": 5,
     "metadata": {},
     "output_type": "execute_result"
    }
   ],
   "source": [
    "# Check the column names \n",
    "\n",
    "df.columns"
   ]
  },
  {
   "cell_type": "code",
   "execution_count": 7,
   "metadata": {},
   "outputs": [
    {
     "data": {
      "image/png": "[encoded data removed]",
      "text/plain": [
       "<Figure size 432x288 with 1 Axes>"
      ]
     },
     "metadata": {
      "needs_background": "light"
     },
     "output_type": "display_data"
    }
   ],
   "source": [
    "# Create a scatterplot using matplotlib for another look at how the chosen variables plot against each other\n",
    "\n",
    "df.plot(x = 'gdp_per_capita', y = 'happiness_score',style = 'o') \n",
    "plt.title('GDP per Capita vs Happiness Score')  \n",
    "plt.xlabel('GDP per Capita')  \n",
    "plt.ylabel('Happiness score')  \n",
    "plt.show()"
   ]
  },
  {
   "cell_type": "markdown",
   "metadata": {},
   "source": [
    "### Hypothesis"
   ]
  },
  {
   "cell_type": "markdown",
   "metadata": {},
   "source": [
    "#### GDP per capita\n",
    "Countries with higher GDP per capita are likely to have higher happiness scores, suggesting that economic well-being is a significant predictor of happiness."
   ]
  },
  {
   "cell_type": "markdown",
   "metadata": {},
   "source": [
    "### Reshaping"
   ]
  },
  {
   "cell_type": "code",
   "execution_count": null,
   "metadata": {},
   "outputs": [],
   "source": [
    "# GDP_per_Capita - Reshape the variables into NumPy arrays and put them into separate objects\n",
    "\n",
    "X = df['gdp_per_capita'].values.reshape(-1,1)\n",
    "y = df['Happiness_Score'].values.reshape(-1,1)"
   ]
  },
  {
   "cell_type": "markdown",
   "metadata": {},
   "source": [
    "#### Splitting data into a training set and a test set"
   ]
  },
  {
   "cell_type": "code",
   "execution_count": null,
   "metadata": {},
   "outputs": [],
   "source": [
    "# Split data into a training set and a test set \n",
    "\n",
    "# GDP_per_Capita\n",
    "X_train, X_test, y_train, y_test = train_test_split(X, y, test_size=0.3, random_state=0)"
   ]
  },
  {
   "cell_type": "markdown",
   "metadata": {},
   "source": [
    "### 03. Regression analysis"
   ]
  },
  {
   "cell_type": "code",
   "execution_count": null,
   "metadata": {},
   "outputs": [],
   "source": [
    "# Create a regression object\n",
    "\n",
    "regression = LinearRegression()"
   ]
  },
  {
   "cell_type": "code",
   "execution_count": null,
   "metadata": {},
   "outputs": [],
   "source": [
    "# Fit the regression object onto the training set\n",
    "\n",
    "regression.fit(X_train, y_train)"
   ]
  },
  {
   "cell_type": "code",
   "execution_count": null,
   "metadata": {},
   "outputs": [],
   "source": [
    "# Predict the values of y using X\n",
    "\n",
    "y_predicted = regression.predict(X_test)"
   ]
  },
  {
   "cell_type": "code",
   "execution_count": null,
   "metadata": {},
   "outputs": [],
   "source": [
    "# Create a plot that shows the regression line from the model on the test set\n",
    "\n",
    "plot_test = plt\n",
    "plot_test.scatter(X_test, y_test, color='gray', s = 15)\n",
    "plot_test.plot(X_test, y_predicted, color='red', linewidth =3)\n",
    "plot_test.title('GDP per Capita vs Happiness Score (Test set)')\n",
    "plot_test.xlabel('GDP per capita')\n",
    "plot_test.ylabel('Happiness score')\n",
    "plot_test.show()"
   ]
  },
  {
   "cell_type": "markdown",
   "metadata": {},
   "source": [
    "You can immediately see that the linear model represented by the red regression line does not perfectly cover all data points, but there is a strong positive correlation, Happiness_Score data points go up as GDP_per_capita increases."
   ]
  },
  {
   "cell_type": "code",
   "execution_count": null,
   "metadata": {},
   "outputs": [],
   "source": [
    "# Create objects that contain the model summary statistics\n",
    "\n",
    "rmse = mean_squared_error(y_test, y_predicted)\n",
    "r2 = r2_score(y_test, y_predicted)"
   ]
  },
  {
   "cell_type": "code",
   "execution_count": null,
   "metadata": {},
   "outputs": [],
   "source": [
    "# Print the model summary statistics\n",
    "\n",
    "print('Slope:' ,regression.coef_)\n",
    "print('Mean squared error: ', rmse)\n",
    "print('R2 score: ', r2)"
   ]
  },
  {
   "cell_type": "code",
   "execution_count": null,
   "metadata": {},
   "outputs": [],
   "source": [
    "# Create a dataframe comparing the actual and predicted values of y\n",
    "\n",
    "data = pd.DataFrame({'Actual': y_test.flatten(), 'Predicted': y_predicted.flatten()})\n",
    "data.head(30)"
   ]
  },
  {
   "cell_type": "markdown",
   "metadata": {},
   "source": [
    "##### Compare how the regression fits the training set"
   ]
  },
  {
   "cell_type": "code",
   "execution_count": null,
   "metadata": {},
   "outputs": [],
   "source": [
    "# Predict\n",
    "\n",
    "y_predicted_train = regression.predict(X_train) # This is predicting X_train!"
   ]
  },
  {
   "cell_type": "code",
   "execution_count": null,
   "metadata": {},
   "outputs": [],
   "source": [
    "rmse = mean_squared_error(y_train, y_predicted_train)\n",
    "r2 = r2_score(y_train, y_predicted_train)"
   ]
  },
  {
   "cell_type": "code",
   "execution_count": null,
   "metadata": {},
   "outputs": [],
   "source": [
    "print('Slope:' ,regression.coef_)\n",
    "print('Mean squared error: ', rmse)\n",
    "print('R2 score: ', r2)"
   ]
  },
  {
   "cell_type": "code",
   "execution_count": null,
   "metadata": {},
   "outputs": [],
   "source": [
    "# Visualizing the training set results\n",
    "\n",
    "plot_test = plt\n",
    "plot_test.scatter(X_train, y_train, color = 'green', s = 15)\n",
    "plot_test.plot(X_train, y_predicted_train, color = 'red', linewidth = 3)\n",
    "plot_test.title('GDP per Capita vs Happiness Score (Train set)')\n",
    "plot_test.xlabel('GDP per Capita')\n",
    "plot_test.ylabel('Happiness score')\n",
    "plot_test.show()"
   ]
  },
  {
   "cell_type": "markdown",
   "metadata": {},
   "source": [
    "Slope  \n",
    "The slope indicates that there is a positive relationship between the independent and the dependent variable. For each unit increase in the independent variable, we can expect an increase of approximately 2.152 units in the dependent variable. This suggests that the model has captured a meaningful relationship between the variables.\n",
    "\n",
    "Mean Squared Error  \n",
    "As the Mean Squared Error tells us how close a regression line is to a set of points, lower value is generally better. In this case, the MSE is relatively low, which indicates that the model's predictions are fairly close to the actual values. However, whether this level of error is acceptable or not depends on what accuracy is expected.\n",
    "\n",
    "R2 Score  \n",
    "The R2 score of approximately 0.6445 suggests that the model explains about 64.45% of the variance in the dependent variable. While an R2 score of 1 would indicate a perfect fit and 0 indicate a poor fit, an R2 score of 0.6445 we can assume as a moderate fit. \n",
    "\n",
    "The model appears to have captured meaningful relationship between the variables, and it provides pretty good predictions with a relatively low MSE and a moderate R2 score.\n",
    "In some cases this performance can be satisfactory but it depends on the specific requirements and objectives of analysis or project. "
   ]
  }
 ],
 "metadata": {
  "kernelspec": {
   "display_name": "Python 3",
   "language": "python",
   "name": "python3"
  },
  "language_info": {
   "codemirror_mode": {
    "name": "ipython",
    "version": 3
   },
   "file_extension": ".py",
   "mimetype": "text/x-python",
   "name": "python",
   "nbconvert_exporter": "python",
   "pygments_lexer": "ipython3",
   "version": "3.8.5"
  }
 },
 "nbformat": 4,
 "nbformat_minor": 4
}
